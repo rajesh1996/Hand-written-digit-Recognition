{
 "cells": [
  {
   "cell_type": "code",
   "execution_count": 1,
   "metadata": {},
   "outputs": [
    {
     "name": "stderr",
     "output_type": "stream",
     "text": [
      "Using TensorFlow backend.\n"
     ]
    }
   ],
   "source": [
    "from keras.datasets import mnist\n",
    "from keras.utils import np_utils\n",
    "from keras.models import Sequential\n",
    "from keras import models, layers\n",
    "import keras\n",
    "\n",
    "\n",
    "# Load data\n",
    "(x_train, y_train), (x_test, y_test) = mnist.load_data()\n",
    "\n",
    "# Set numeric type to float32\n",
    "x_train = x_train.astype('float32')\n",
    "x_test = x_test.astype('float32')\n",
    "\n",
    "# Normalize RGB value to [0, 1]\n",
    "x_train /= 255\n",
    "x_test /= 255\n",
    "\n",
    "# Transform lables to one-hot encoding categorcical variables\n",
    "y_train = np_utils.to_categorical(y_train, 10)\n",
    "y_test = np_utils.to_categorical(y_test, 10)\n",
    "\n",
    "# Reshape the dataset to feed into the convolution layer\n",
    "x_train = x_train.reshape(x_train.shape[0], 28,28,1)\n",
    "x_test = x_test.reshape(x_test.shape[0], 28,28,1) "
   ]
  },
  {
   "cell_type": "code",
   "execution_count": 15,
   "metadata": {},
   "outputs": [],
   "source": [
    "#activation = 'tanh'\n",
    "#activation = 'relu'\n",
    "#Start Sequential\n",
    "model = Sequential()\n",
    "\n",
    "#Convolutional Layer C1\n",
    "model.add(layers.Conv2D(6, kernel_size=(5, 5), strides=(1, 1), activation='tanh', input_shape=(28,28,1), padding=\"same\"))\n",
    "\n",
    "# Pooling Layer S2 \n",
    "model.add(layers.AveragePooling2D(pool_size=(2, 2), strides=(1, 1), padding='valid'))\n",
    "\n",
    "#Convolutional Layer  C3 \n",
    "model.add(layers.Conv2D(16, kernel_size=(5, 5), strides=(1, 1), activation='tanh', padding='valid'))\n",
    "\n",
    "# Pooling Layer S4 \n",
    "model.add(layers.AveragePooling2D(pool_size=(2, 2), strides=(2, 2), padding='valid'))\n",
    "\n",
    "#Fully Connected Convolutional Layer S4 \n",
    "model.add(layers.Conv2D(120, kernel_size=(5, 5), strides=(1, 1), activation='tanh', padding='valid'))\n",
    "#Flatten the CNN output before feeding it next Fully connected layer\n",
    "model.add(layers.Flatten())\n",
    "\n",
    "#Fully Connected Layer\n",
    "model.add(layers.Dense(84, activation='tanh'))\n",
    "\n",
    "#Output Layer with softmax activation (10 classes)\n",
    "model.add(layers.Dense(10, activation='softmax'))\n",
    "\n",
    "# Compile the model\n",
    "model.compile(loss=keras.losses.categorical_crossentropy, optimizer='SGD', metrics=[\"accuracy\"]) \n",
    "#model.compile(loss=keras.losses.mean_squared_error, optimizer='rmsprop', metrics=[\"accuracy\"]) "
   ]
  },
  {
   "cell_type": "code",
   "execution_count": 16,
   "metadata": {},
   "outputs": [
    {
     "name": "stdout",
     "output_type": "stream",
     "text": [
      "Train on 60000 samples, validate on 10000 samples\n",
      "Epoch 1/10\n",
      "60000/60000 [==============================] - 120s 2ms/step - loss: 0.6808 - acc: 0.8276 - val_loss: 0.3354 - val_acc: 0.9078\n",
      "Epoch 2/10\n",
      "60000/60000 [==============================] - 121s 2ms/step - loss: 0.3092 - acc: 0.9126 - val_loss: 0.2637 - val_acc: 0.9252\n",
      "Epoch 3/10\n",
      "60000/60000 [==============================] - 128s 2ms/step - loss: 0.2539 - acc: 0.9271 - val_loss: 0.2246 - val_acc: 0.9374\n",
      "Epoch 4/10\n",
      "60000/60000 [==============================] - 125s 2ms/step - loss: 0.2196 - acc: 0.9367 - val_loss: 0.1984 - val_acc: 0.9443\n",
      "Epoch 5/10\n",
      "60000/60000 [==============================] - 117s 2ms/step - loss: 0.1952 - acc: 0.9440 - val_loss: 0.1779 - val_acc: 0.9509\n",
      "Epoch 6/10\n",
      "60000/60000 [==============================] - 129s 2ms/step - loss: 0.1759 - acc: 0.9497 - val_loss: 0.1626 - val_acc: 0.9535\n",
      "Epoch 7/10\n",
      "60000/60000 [==============================] - 117s 2ms/step - loss: 0.1606 - acc: 0.9542 - val_loss: 0.1497 - val_acc: 0.9568\n",
      "Epoch 8/10\n",
      "60000/60000 [==============================] - 118s 2ms/step - loss: 0.1475 - acc: 0.9585 - val_loss: 0.1396 - val_acc: 0.9594\n",
      "Epoch 9/10\n",
      "60000/60000 [==============================] - 117s 2ms/step - loss: 0.1363 - acc: 0.9616 - val_loss: 0.1295 - val_acc: 0.9620\n",
      "Epoch 10/10\n",
      "60000/60000 [==============================] - 117s 2ms/step - loss: 0.1266 - acc: 0.9644 - val_loss: 0.1245 - val_acc: 0.9644\n"
     ]
    }
   ],
   "source": [
    "hist = model.fit(x=x_train,y=y_train, epochs=10, batch_size=128, validation_data=(x_test, y_test), verbose=1) "
   ]
  },
  {
   "cell_type": "code",
   "execution_count": 17,
   "metadata": {},
   "outputs": [
    {
     "name": "stdout",
     "output_type": "stream",
     "text": [
      "10000/10000 [==============================] - 10s 988us/step\n",
      "Test loss 0.1245, accuracy 96.44%\n"
     ]
    }
   ],
   "source": [
    "test_score = model.evaluate(x_test, y_test)\n",
    "print(\"Test loss {:.4f}, accuracy {:.2f}%\".format(test_score[0], test_score[1] * 100)) "
   ]
  },
  {
   "cell_type": "code",
   "execution_count": 18,
   "metadata": {},
   "outputs": [
    {
     "data": {
      "image/png": "[encoded data removed]",
      "text/plain": [
       "<Figure size 432x288 with 1 Axes>"
      ]
     },
     "metadata": {},
     "output_type": "display_data"
    }
   ],
   "source": [
    "import matplotlib.pyplot as plt\n",
    "\n",
    "f, ax = plt.subplots()\n",
    "ax.plot([None] + hist.history['acc'], 'o-')\n",
    "ax.plot([None] + hist.history['val_acc'], 'x-')\n",
    "\n",
    "ax.legend(['Train acc', 'Validation acc'], loc = 0)\n",
    "ax.set_title('Training and Validation Accuracy')\n",
    "ax.set_xlabel('Number of Epochs')\n",
    "ax.set_ylabel('Accuracy') \n",
    "plt.show()"
   ]
  },
  {
   "cell_type": "code",
   "execution_count": 19,
   "metadata": {},
   "outputs": [
    {
     "data": {
      "image/png": "[encoded data removed]",
      "text/plain": [
       "<Figure size 432x288 with 1 Axes>"
      ]
     },
     "metadata": {},
     "output_type": "display_data"
    }
   ],
   "source": [
    "import matplotlib.pyplot as plt\n",
    "\n",
    "f, ax = plt.subplots()\n",
    "ax.plot([None] + hist.history['loss'], 'o-')\n",
    "ax.plot([None] + hist.history['val_loss'], 'x-')\n",
    "# Plot legend and use the best location automatically: loc = 0.\n",
    "ax.legend(['Train Loss', 'Validation Loss'], loc = 0)\n",
    "ax.set_title('Training and Validation Loss')\n",
    "ax.set_xlabel('Epochs')\n",
    "ax.set_ylabel('Loss') \n",
    "plt.show()"
   ]
  },
  {
   "cell_type": "code",
   "execution_count": null,
   "metadata": {
    "collapsed": true
   },
   "outputs": [],
   "source": [
    "\"\"\"#LeNet-5 Architecture\n",
    "from tensorflow.contrib.layers import flatten\n",
    "x = tf.placeholder(tf.float32, (None, 32, 32, 1)) #placeholder for a batch of input images\n",
    "y = tf.placeholder(tf.int32, (None)) #placeholder for a batch of output images\n",
    "one_hot_y = tf.one_hot(y, 10) #one hot encoding the ouput classes\n",
    " \n",
    "mu = 0\n",
    "sigma = 0.1\n",
    "#Layer 1: Convolutional. Input = 32x32x1. Output = 28x28x6.\n",
    "conv1_w = tf.Variable(tf.truncated_normal(shape = [5,5,1,6],mean = mu, stddev = sigma))\n",
    "conv1_b = tf.Variable(tf.zeros(6))\n",
    "conv1 = tf.nn.conv2d(x,conv1_w, strides = [1,1,1,1], padding = 'VALID') + conv1_b \n",
    "# Activation.\n",
    "conv1 = tf.nn.relu(conv1)\n",
    "\n",
    "#Pooling. Input = 28x28x6. Output = 14x14x6.\n",
    "pool_1 = tf.nn.max_pool(conv1,ksize = [1,2,2,1], strides = [1,2,2,1], padding = 'VALID')\n",
    "\n",
    "#Layer 2: Convolutional. Output = 10x10x16.\n",
    "conv2_w = tf.Variable(tf.truncated_normal(shape = [5,5,6,16], mean = mu, stddev = sigma))\n",
    "conv2_b = tf.Variable(tf.zeros(16))\n",
    "conv2 = tf.nn.conv2d(pool_1, conv2_w, strides = [1,1,1,1], padding = 'VALID') + conv2_b\n",
    "#Activation.\n",
    "conv2 = tf.nn.relu(conv2)\n",
    "\n",
    "#Pooling. Input = 10x10x16. Output = 5x5x16.\n",
    "pool_2 = tf.nn.max_pool(conv2, ksize = [1,2,2,1], strides = [1,2,2,1], padding = 'VALID') \n",
    "\n",
    "#Flatten. Input = 5x5x16. Output = 400.\n",
    "fc1 = flatten(pool_2)\n",
    "\n",
    "#Layer 3: Fully Connected. Input = 400. Output = 120.\n",
    "fc1_w = tf.Variable(tf.truncated_normal(shape = (400,120), mean = mu, stddev = sigma))\n",
    "fc1_b = tf.Variable(tf.zeros(120))\n",
    "fc1 = tf.matmul(fc1,fc1_w) + fc1_b\n",
    "\n",
    "#Activation.\n",
    "fc1 = tf.nn.relu(fc1)\n",
    "\n",
    "#Layer 4: Fully Connected. Input = 120. Output = 84.\n",
    "fc2_w = tf.Variable(tf.truncated_normal(shape = (120,84), mean = mu, stddev = sigma))\n",
    "fc2_b = tf.Variable(tf.zeros(84))\n",
    "fc2 = tf.matmul(fc1,fc2_w) + fc2_b\n",
    "#Activation.\n",
    "fc2 = tf.nn.relu(fc2)\n",
    "\n",
    "#Layer 5: Fully Connected. Input = 84. Output = 10.\n",
    "fc3_w = tf.Variable(tf.truncated_normal(shape = (84,10), mean = mu , stddev = sigma))\n",
    "fc3_b = tf.Variable(tf.zeros(10))\n",
    "logits = tf.matmul(fc2, fc3_w) + fc3_b\n",
    "\"\"\""
   ]
  }
 ],
 "metadata": {
  "kernelspec": {
   "display_name": "Python 3",
   "language": "python",
   "name": "python3"
  },
  "language_info": {
   "codemirror_mode": {
    "name": "ipython",
    "version": 3
   },
   "file_extension": ".py",
   "mimetype": "text/x-python",
   "name": "python",
   "nbconvert_exporter": "python",
   "pygments_lexer": "ipython3",
   "version": "3.6.8"
  }
 },
 "nbformat": 4,
 "nbformat_minor": 2
}
